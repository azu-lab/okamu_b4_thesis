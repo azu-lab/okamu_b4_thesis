{
 "cells": [
  {
   "cell_type": "code",
   "execution_count": 2,
   "metadata": {},
   "outputs": [],
   "source": [
    "from python.DAGs.DAG_Constructer import DAG_Constructer\n",
    "tgff_dag0 = DAG_Constructer.create_dag_from_tgff_file(\"./DAG/original_10_0.tgff\")\n",
    "tgff_dag1 = DAG_Constructer.create_dag_from_tgff_file(\"./DAG/original_20_0.tgff\")\n",
    "tgff_dag2 = DAG_Constructer.create_dag_from_tgff_file(\"./DAG/original_20_6.tgff\")"
   ]
  },
  {
   "cell_type": "code",
   "execution_count": 3,
   "metadata": {},
   "outputs": [],
   "source": [
    "from python.DAGs.DAG_base import Node\n",
    "from python.DAGs.DAG_Constructer import DAG_Constructer\n",
    "\n",
    "nodes = []\n",
    "node = Node() \n",
    "node.set(0, 320, 1, 1)\n",
    "node.pre = []\n",
    "node.suc = [1, 2, 3]\n",
    "nodes.append(node)\n",
    "\n",
    "node = Node()\n",
    "node.set(1, 180, 1, 1)\n",
    "node.pre = [0]\n",
    "node.suc = [4]\n",
    "nodes.append(node)\n",
    "\n",
    "node = Node()\n",
    "node.set(2, 320, 1, 1)\n",
    "node.pre = [0]\n",
    "node.suc = [5]\n",
    "nodes.append(node)\n",
    "\n",
    "node = Node()\n",
    "node.set(3, 160, 1, 1)\n",
    "node.pre = [0]\n",
    "node.suc = [5]\n",
    "nodes.append(node)\n",
    "\n",
    "node = Node()\n",
    "node.set(4, 60, 1, 1)\n",
    "node.pre = [1]\n",
    "node.suc = [6]\n",
    "nodes.append(node)\n",
    "\n",
    "node = Node()\n",
    "node.set(5, 320, 1, 1)\n",
    "node.pre = [2, 3]\n",
    "node.suc = [7]\n",
    "nodes.append(node)\n",
    "\n",
    "node = Node()\n",
    "node.set(6, 160, 1, 1)\n",
    "node.pre = [4]\n",
    "node.suc = [8]\n",
    "nodes.append(node)\n",
    "\n",
    "node = Node()\n",
    "node.set(7, 120, 1, 1)\n",
    "node.pre = [5]\n",
    "node.suc = [8]\n",
    "nodes.append(node)\n",
    "\n",
    "node = Node() \n",
    "node.set(8, 240, 1, 1)\n",
    "node.pre = [6, 7]\n",
    "node.suc = []\n",
    "nodes.append(node)\n",
    "\n",
    "sample_dag = DAG_Constructer.create_dag_node_from_nodes(nodes)"
   ]
  },
  {
   "cell_type": "code",
   "execution_count": 4,
   "metadata": {},
   "outputs": [
    {
     "name": "stdout",
     "output_type": "stream",
     "text": [
      "[0, 2, 5, 7, 8]\n",
      "0  : 8\n",
      "1  : 2\n",
      "2  : 7\n",
      "3  : 3\n",
      "4  : 0\n",
      "5  : 6\n",
      "6  : 1\n",
      "7  : 5\n",
      "8  : 4\n"
     ]
    }
   ],
   "source": [
    "#test_dag.check()\n",
    "test_dag = sample_dag\n",
    "\n",
    "test_dag.set_critical_path()\n",
    "test_dag.print_critical_path()\n",
    "\n",
    "#print(\"==========\")\n",
    "#print([t for t in test if t not in test_dag.nodes])\n",
    "test_dag.rta_fcp(65536)\n",
    "\n",
    "test_dag.nodes.sort(key=lambda x: x.p)\n",
    "for i, n in enumerate(test_dag.nodes):\n",
    "    n.p = i\n",
    "test_dag.nodes.sort(key=lambda x: x.idx)\n",
    "\n",
    "for node in test_dag.nodes:\n",
    "    print(str(node.idx).ljust(2)+\" : \"+str(node.p))"
   ]
  }
 ],
 "metadata": {
  "kernelspec": {
   "display_name": "Python 3",
   "language": "python",
   "name": "python3"
  },
  "language_info": {
   "codemirror_mode": {
    "name": "ipython",
    "version": 3
   },
   "file_extension": ".py",
   "mimetype": "text/x-python",
   "name": "python",
   "nbconvert_exporter": "python",
   "pygments_lexer": "ipython3",
   "version": "3.10.11"
  }
 },
 "nbformat": 4,
 "nbformat_minor": 2
}
